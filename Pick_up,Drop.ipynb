{
 "cells": [
  {
   "cell_type": "code",
   "execution_count": 87,
   "metadata": {},
   "outputs": [
    {
     "name": "stdout",
     "output_type": "stream",
     "text": [
      "Requirement already satisfied: Twilio in /anaconda3/lib/python3.7/site-packages (6.27.1)\n",
      "Requirement already satisfied: requests>=2.0.0; python_version >= \"3.0\" in /anaconda3/lib/python3.7/site-packages (from Twilio) (2.21.0)\n",
      "Requirement already satisfied: six in /anaconda3/lib/python3.7/site-packages (from Twilio) (1.12.0)\n",
      "Requirement already satisfied: pysocks; python_version >= \"3.0\" in /anaconda3/lib/python3.7/site-packages (from Twilio) (1.6.8)\n",
      "Requirement already satisfied: pytz in /anaconda3/lib/python3.7/site-packages (from Twilio) (2018.9)\n",
      "Requirement already satisfied: PyJWT>=1.4.2 in /anaconda3/lib/python3.7/site-packages (from Twilio) (1.7.1)\n",
      "Requirement already satisfied: idna<2.9,>=2.5 in /anaconda3/lib/python3.7/site-packages (from requests>=2.0.0; python_version >= \"3.0\"->Twilio) (2.8)\n",
      "Requirement already satisfied: chardet<3.1.0,>=3.0.2 in /anaconda3/lib/python3.7/site-packages (from requests>=2.0.0; python_version >= \"3.0\"->Twilio) (3.0.4)\n",
      "Requirement already satisfied: urllib3<1.25,>=1.21.1 in /anaconda3/lib/python3.7/site-packages (from requests>=2.0.0; python_version >= \"3.0\"->Twilio) (1.24.1)\n",
      "Requirement already satisfied: certifi>=2017.4.17 in /anaconda3/lib/python3.7/site-packages (from requests>=2.0.0; python_version >= \"3.0\"->Twilio) (2019.3.9)\n"
     ]
    }
   ],
   "source": [
    "#Collect Twilio\n",
    "!pip install Twilio"
   ]
  },
  {
   "cell_type": "code",
   "execution_count": 67,
   "metadata": {},
   "outputs": [],
   "source": [
    "#Import Necessary Libraries\n",
    "from twilio.rest import Client\n",
    "import pandas as pd\n",
    "import numpy as np"
   ]
  },
  {
   "cell_type": "code",
   "execution_count": 15,
   "metadata": {},
   "outputs": [],
   "source": [
    "#Creating the Dataframe\n",
    "df = pd.DataFrame(columns = ['D_Name','Pickup_Location ','Drop_Location','Mobile_no']) "
   ]
  },
  {
   "cell_type": "code",
   "execution_count": 84,
   "metadata": {},
   "outputs": [],
   "source": [
    "#Update this value as you keep adding the records, Start this with 0.\n",
    "i=4"
   ]
  },
  {
   "cell_type": "code",
   "execution_count": 85,
   "metadata": {},
   "outputs": [],
   "source": [
    "#Enter the records in this format\n",
    "df.loc[i]=['K','Lords','Yale','+xxxxxxxxxx']"
   ]
  },
  {
   "cell_type": "code",
   "execution_count": 80,
   "metadata": {},
   "outputs": [
    {
     "data": {
      "text/plain": [
       "<Twilio.Api.V2010.MessageInstance account_sid=AC465da460233e531f8bc9bb8e2adcf91d sid=SM61e7cd3ebf754b11b4088e30dbb2648b>"
      ]
     },
     "execution_count": 80,
     "metadata": {},
     "output_type": "execute_result"
    }
   ],
   "source": [
    "#Use SID and Token of your Twilio Account \n",
    "client = Client(\"ACxxxxxxxxxxxxxxxxx\", \"3xxxxxxxxxxxxxxxxxxx\")\n",
    "\n",
    "# change the \"from_\" number to your Twilio number and the \"to\" number\n",
    "# to the phone number you signed up for Twilio with, or upgrade your\n",
    "# account to send SMS to any phone number\n",
    "client.messages.create(to=df.iat[1,3], \n",
    "                       from_=\"+16193893232\", \n",
    "                       body='Hey ' +df.iat[i,0]+' Pickup at ' + df.iat[i,1] + ' and drop location is '+ df.iat[i,2])"
   ]
  },
  {
   "cell_type": "code",
   "execution_count": 86,
   "metadata": {},
   "outputs": [],
   "source": [
    "#Run this cell only when you want to save the records \n",
    "df.to_dense().to_csv(\"submission.csv\", index = False, sep=',', encoding='utf-8')"
   ]
  },
  {
   "cell_type": "code",
   "execution_count": null,
   "metadata": {},
   "outputs": [],
   "source": []
  }
 ],
 "metadata": {
  "kernelspec": {
   "display_name": "Python 3",
   "language": "python",
   "name": "python3"
  },
  "language_info": {
   "codemirror_mode": {
    "name": "ipython",
    "version": 3
   },
   "file_extension": ".py",
   "mimetype": "text/x-python",
   "name": "python",
   "nbconvert_exporter": "python",
   "pygments_lexer": "ipython3",
   "version": "3.7.3"
  }
 },
 "nbformat": 4,
 "nbformat_minor": 2
}
